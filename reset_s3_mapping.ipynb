{
 "cells": [
  {
   "cell_type": "code",
   "execution_count": 14,
   "metadata": {},
   "outputs": [],
   "source": [
    "import streamlit as st\n",
    "import pandas as pd\n",
    "import boto3\n",
    "from io import BytesIO\n",
    "\n",
    "mapping = pd.read_csv(\"~/Downloads/mapping.csv\")"
   ]
  },
  {
   "cell_type": "code",
   "execution_count": 15,
   "metadata": {},
   "outputs": [],
   "source": [
    "# Convert the DataFrame to Parquet\n",
    "parquet_buffer = BytesIO()\n",
    "mapping.to_parquet(parquet_buffer, index=False)"
   ]
  },
  {
   "cell_type": "code",
   "execution_count": 16,
   "metadata": {},
   "outputs": [],
   "source": [
    "s3_resource = boto3.resource(\"s3\")\n",
    "\n",
    "bucket_name = \"mada-whales-python\"\n",
    "object_key = \"files/mapping.parquet\""
   ]
  },
  {
   "cell_type": "code",
   "execution_count": 17,
   "metadata": {},
   "outputs": [],
   "source": [
    "AWS_ACCESS_KEY_ID = st.secrets[\"aws\"][\"AWS_ACCESS_KEY_ID\"]\n",
    "AWS_SECRET_ACCESS_KEY = st.secrets[\"aws\"][\"AWS_SECRET_ACCESS_KEY\"]\n",
    "AWS_DEFAULT_REGION = st.secrets[\"aws\"][\"AWS_DEFAULT_REGION\"]\n",
    "\n",
    "s3_resource = boto3.resource(\n",
    "    \"s3\",\n",
    "    region_name=AWS_DEFAULT_REGION,\n",
    "    aws_access_key_id=AWS_ACCESS_KEY_ID,\n",
    "    aws_secret_access_key=AWS_SECRET_ACCESS_KEY,\n",
    ")"
   ]
  },
  {
   "cell_type": "code",
   "execution_count": 18,
   "metadata": {},
   "outputs": [
    {
     "data": {
      "text/plain": [
       "{'ResponseMetadata': {'RequestId': 'QRR63VJRHVE0WRTT',\n",
       "  'HostId': '9BLbMWTVfHIbn/Mej1pPIIDVGW4nofNvUt7/GtmcBhHAOfj5nNv/JE8cD1yn75ckjNu5rzSIpSo=',\n",
       "  'HTTPStatusCode': 200,\n",
       "  'HTTPHeaders': {'x-amz-id-2': '9BLbMWTVfHIbn/Mej1pPIIDVGW4nofNvUt7/GtmcBhHAOfj5nNv/JE8cD1yn75ckjNu5rzSIpSo=',\n",
       "   'x-amz-request-id': 'QRR63VJRHVE0WRTT',\n",
       "   'date': 'Mon, 15 Apr 2024 09:19:31 GMT',\n",
       "   'x-amz-version-id': 'JbBa1uq3r1X.GcaweRlJUjoADShQ0NWD',\n",
       "   'x-amz-server-side-encryption': 'AES256',\n",
       "   'etag': '\"616457599c02647b12dc6deebb6a7918\"',\n",
       "   'server': 'AmazonS3',\n",
       "   'content-length': '0'},\n",
       "  'RetryAttempts': 0},\n",
       " 'ETag': '\"616457599c02647b12dc6deebb6a7918\"',\n",
       " 'ServerSideEncryption': 'AES256',\n",
       " 'VersionId': 'JbBa1uq3r1X.GcaweRlJUjoADShQ0NWD'}"
      ]
     },
     "execution_count": 18,
     "metadata": {},
     "output_type": "execute_result"
    }
   ],
   "source": [
    "# Upload the Parquet file to S3\n",
    "s3_mapping_file = s3_resource.Object(bucket_name, object_key)\n",
    "s3_mapping_file.put(Body=parquet_buffer.getvalue())"
   ]
  },
  {
   "cell_type": "code",
   "execution_count": 23,
   "metadata": {},
   "outputs": [],
   "source": [
    "buffer = BytesIO()\n",
    "s3_mapping_file.download_fileobj(buffer)\n",
    "buffer.seek(0)\n",
    "map = pd.read_parquet(buffer)"
   ]
  },
  {
   "cell_type": "code",
   "execution_count": 25,
   "metadata": {},
   "outputs": [
    {
     "data": {
      "text/html": [
       "<div>\n",
       "<style scoped>\n",
       "    .dataframe tbody tr th:only-of-type {\n",
       "        vertical-align: middle;\n",
       "    }\n",
       "\n",
       "    .dataframe tbody tr th {\n",
       "        vertical-align: top;\n",
       "    }\n",
       "\n",
       "    .dataframe thead th {\n",
       "        text-align: right;\n",
       "    }\n",
       "</style>\n",
       "<table border=\"1\" class=\"dataframe\">\n",
       "  <thead>\n",
       "    <tr style=\"text-align: right;\">\n",
       "      <th></th>\n",
       "      <th>sighting_id</th>\n",
       "      <th>i3s_id</th>\n",
       "      <th>no_id_reason</th>\n",
       "    </tr>\n",
       "  </thead>\n",
       "  <tbody>\n",
       "    <tr>\n",
       "      <th>0</th>\n",
       "      <td>edc6e5df-a2ad</td>\n",
       "      <td>None</td>\n",
       "      <td>unusable_sighting</td>\n",
       "    </tr>\n",
       "    <tr>\n",
       "      <th>1</th>\n",
       "      <td>6ba6cade-d11b</td>\n",
       "      <td>MD-320</td>\n",
       "      <td>None</td>\n",
       "    </tr>\n",
       "    <tr>\n",
       "      <th>2</th>\n",
       "      <td>c1817a3a-4be2</td>\n",
       "      <td>MD-046</td>\n",
       "      <td>None</td>\n",
       "    </tr>\n",
       "    <tr>\n",
       "      <th>3</th>\n",
       "      <td>82c75c6c-72ed</td>\n",
       "      <td>MD-414</td>\n",
       "      <td>None</td>\n",
       "    </tr>\n",
       "    <tr>\n",
       "      <th>4</th>\n",
       "      <td>386f33ea-39c5</td>\n",
       "      <td>MD-254</td>\n",
       "      <td>None</td>\n",
       "    </tr>\n",
       "    <tr>\n",
       "      <th>...</th>\n",
       "      <td>...</td>\n",
       "      <td>...</td>\n",
       "      <td>...</td>\n",
       "    </tr>\n",
       "    <tr>\n",
       "      <th>2045</th>\n",
       "      <td>27ea42ce-4b33</td>\n",
       "      <td>MD-529</td>\n",
       "      <td>None</td>\n",
       "    </tr>\n",
       "    <tr>\n",
       "      <th>2046</th>\n",
       "      <td>da2e1806-43c4</td>\n",
       "      <td>MD-162</td>\n",
       "      <td>None</td>\n",
       "    </tr>\n",
       "    <tr>\n",
       "      <th>2047</th>\n",
       "      <td>44f827e5-d86d</td>\n",
       "      <td>MD-529</td>\n",
       "      <td>None</td>\n",
       "    </tr>\n",
       "    <tr>\n",
       "      <th>2048</th>\n",
       "      <td>8de6b955-5ff1</td>\n",
       "      <td>MD-429</td>\n",
       "      <td>None</td>\n",
       "    </tr>\n",
       "    <tr>\n",
       "      <th>2049</th>\n",
       "      <td>417c771f-086f</td>\n",
       "      <td>MD-322</td>\n",
       "      <td>None</td>\n",
       "    </tr>\n",
       "  </tbody>\n",
       "</table>\n",
       "<p>2050 rows × 3 columns</p>\n",
       "</div>"
      ],
      "text/plain": [
       "        sighting_id  i3s_id       no_id_reason\n",
       "0     edc6e5df-a2ad    None  unusable_sighting\n",
       "1     6ba6cade-d11b  MD-320               None\n",
       "2     c1817a3a-4be2  MD-046               None\n",
       "3     82c75c6c-72ed  MD-414               None\n",
       "4     386f33ea-39c5  MD-254               None\n",
       "...             ...     ...                ...\n",
       "2045  27ea42ce-4b33  MD-529               None\n",
       "2046  da2e1806-43c4  MD-162               None\n",
       "2047  44f827e5-d86d  MD-529               None\n",
       "2048  8de6b955-5ff1  MD-429               None\n",
       "2049  417c771f-086f  MD-322               None\n",
       "\n",
       "[2050 rows x 3 columns]"
      ]
     },
     "execution_count": 25,
     "metadata": {},
     "output_type": "execute_result"
    }
   ],
   "source": [
    "map"
   ]
  }
 ],
 "metadata": {
  "kernelspec": {
   "display_name": ".venv",
   "language": "python",
   "name": "python3"
  },
  "language_info": {
   "codemirror_mode": {
    "name": "ipython",
    "version": 3
   },
   "file_extension": ".py",
   "mimetype": "text/x-python",
   "name": "python",
   "nbconvert_exporter": "python",
   "pygments_lexer": "ipython3",
   "version": "3.10.5"
  }
 },
 "nbformat": 4,
 "nbformat_minor": 2
}
